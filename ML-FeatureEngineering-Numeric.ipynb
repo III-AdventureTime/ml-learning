{
 "cells": [
  {
   "cell_type": "markdown",
   "metadata": {},
   "source": [
    "+ Does the Magnitude Matter?\n",
    "    - Do we just need to know whether it’s positive or negative? \n",
    "    - Do we only need to know the magnitude at a very coarse granularity?\n",
    "    \n",
    "    \n",
    "+ Scale of Features\n",
    "    - Models that are smooth functions of input features are sensitive to the scale of the input. For these models, it is often a good idea to normalize the features so that the output stays on an expected scale. **(why?)**\n",
    "    - Logical functions, on the other hand, are not sensitive to input feature scale.\n",
    "    \n",
    "    \n",
    "+ Distribution of Features\n",
    "    - The log transform is can be used in dealing with positive numbers with a heavy-tailed distribution.\n",
    "\n",
    "\n",
    "+ Multiple features can be composed together into more complex features. \n",
    "    - The hope is that complex features can more succinctly capture important information in raw data, and allow the model to be simpler, easier to train and evaluate, and to make better predictions. "
   ]
  },
  {
   "cell_type": "code",
   "execution_count": null,
   "metadata": {},
   "outputs": [],
   "source": []
  }
 ],
 "metadata": {
  "kernelspec": {
   "display_name": "Python 3",
   "language": "python",
   "name": "python3"
  },
  "language_info": {
   "codemirror_mode": {
    "name": "ipython",
    "version": 3
   },
   "file_extension": ".py",
   "mimetype": "text/x-python",
   "name": "python",
   "nbconvert_exporter": "python",
   "pygments_lexer": "ipython3",
   "version": "3.6.4"
  },
  "toc": {
   "base_numbering": 1,
   "nav_menu": {},
   "number_sections": true,
   "sideBar": true,
   "skip_h1_title": false,
   "title_cell": "Table of Contents",
   "title_sidebar": "Contents",
   "toc_cell": false,
   "toc_position": {},
   "toc_section_display": true,
   "toc_window_display": true
  }
 },
 "nbformat": 4,
 "nbformat_minor": 2
}
