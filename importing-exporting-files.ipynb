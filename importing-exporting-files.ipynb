{
 "cells": [
  {
   "cell_type": "markdown",
   "metadata": {
    "toc": true
   },
   "source": [
    "<h1>Table of Contents<span class=\"tocSkip\"></span></h1>\n",
    "<div class=\"toc\"><ul class=\"toc-item\"><li><span><a href=\"#CSV-Files\" data-toc-modified-id=\"CSV-Files-1\"><span class=\"toc-item-num\">1&nbsp;&nbsp;</span>CSV Files</a></span><ul class=\"toc-item\"><li><span><a href=\"#Reading\" data-toc-modified-id=\"Reading-1.1\"><span class=\"toc-item-num\">1.1&nbsp;&nbsp;</span>Reading</a></span></li><li><span><a href=\"#Writing\" data-toc-modified-id=\"Writing-1.2\"><span class=\"toc-item-num\">1.2&nbsp;&nbsp;</span>Writing</a></span></li></ul></li><li><span><a href=\"#JSON-Data\" data-toc-modified-id=\"JSON-Data-2\"><span class=\"toc-item-num\">2&nbsp;&nbsp;</span>JSON Data</a></span></li><li><span><a href=\"#Excel-Files\" data-toc-modified-id=\"Excel-Files-3\"><span class=\"toc-item-num\">3&nbsp;&nbsp;</span>Excel Files</a></span><ul class=\"toc-item\"><li><span><a href=\"#Reading\" data-toc-modified-id=\"Reading-3.1\"><span class=\"toc-item-num\">3.1&nbsp;&nbsp;</span>Reading</a></span></li><li><span><a href=\"#Writing\" data-toc-modified-id=\"Writing-3.2\"><span class=\"toc-item-num\">3.2&nbsp;&nbsp;</span>Writing</a></span></li></ul></li><li><span><a href=\"#SAS-Files\" data-toc-modified-id=\"SAS-Files-4\"><span class=\"toc-item-num\">4&nbsp;&nbsp;</span>SAS Files</a></span></li><li><span><a href=\"#Stata-Files\" data-toc-modified-id=\"Stata-Files-5\"><span class=\"toc-item-num\">5&nbsp;&nbsp;</span>Stata Files</a></span></li><li><span><a href=\"#HDF5-Files\" data-toc-modified-id=\"HDF5-Files-6\"><span class=\"toc-item-num\">6&nbsp;&nbsp;</span>HDF5 Files</a></span></li><li><span><a href=\"#MATLAB-Files\" data-toc-modified-id=\"MATLAB-Files-7\"><span class=\"toc-item-num\">7&nbsp;&nbsp;</span>MATLAB Files</a></span></li></ul></div>"
   ]
  },
  {
   "cell_type": "markdown",
   "metadata": {},
   "source": [
    "# CSV Files\n",
    "## Reading"
   ]
  },
  {
   "cell_type": "code",
   "execution_count": null,
   "metadata": {},
   "outputs": [],
   "source": [
    "import pandas as pd\n",
    "df = pd.read_csv('filename.csv', sep=',', \n",
    "                 header=0,  # index of the row containing column names\n",
    "                 usecols=[0, 1, 2])  # read only these columns\n",
    "\n",
    "df = pd.read_csv('filename.csv', sep=',', \n",
    "                 header=None, \n",
    "                 names=['col1', 'col2', 'col3'])  # name/rename columns\n",
    "\n",
    "df = pd.read_csv('filename.csv', sep=r'\\s+', header=0)  # regexp as separator\n",
    "\n",
    "df = pd.read_csv('filename.csv', sep=',', header=0, nrows=100)  # read only 100 rows\n",
    "\n",
    "# read csv file in pieces\n",
    "pieces = pd.read_csv('filename.csv', sep=',', header=0, chunksize=100)  \n",
    "for df in pieces:\n",
    "    pass\n"
   ]
  },
  {
   "cell_type": "markdown",
   "metadata": {},
   "source": [
    "## Writing"
   ]
  },
  {
   "cell_type": "code",
   "execution_count": null,
   "metadata": {},
   "outputs": [],
   "source": [
    "df.to_csv('filename.csv', na_rep='NA', columns=['col1', 'col3'])"
   ]
  },
  {
   "cell_type": "markdown",
   "metadata": {},
   "source": [
    "* See also Python's built-in `csv` module."
   ]
  },
  {
   "cell_type": "markdown",
   "metadata": {},
   "source": [
    "# JSON Data"
   ]
  },
  {
   "cell_type": "code",
   "execution_count": 31,
   "metadata": {},
   "outputs": [
    {
     "name": "stdout",
     "output_type": "stream",
     "text": [
      "[{'name': 'Wes', 'age': 32, 'pet': 'cat'}, {'name': 'Scott', 'age': 27, 'pet': None}, {'name': 'Katie', 'age': 30, 'pet': 'dog'}]\n",
      "---------\n",
      "   age   name   pet\n",
      "0   32    Wes   cat\n",
      "1   27  Scott  None\n",
      "2   30  Katie   dog\n",
      "---------\n",
      "{\"age\":{\"0\":32,\"1\":27,\"2\":30},\"name\":{\"0\":\"Wes\",\"1\":\"Scott\",\"2\":\"Katie\"},\"pet\":{\"0\":\"cat\",\"1\":null,\"2\":\"dog\"}}\n",
      "---------\n",
      "[{\"age\":32,\"name\":\"Wes\",\"pet\":\"cat\"},{\"age\":27,\"name\":\"Scott\",\"pet\":null},{\"age\":30,\"name\":\"Katie\",\"pet\":\"dog\"}]\n"
     ]
    }
   ],
   "source": [
    "import json\n",
    "data_json = '''{\"classmates\": [\n",
    "    {\"name\": \"Wes\", \"age\": 32, \"pet\": \"cat\"},\n",
    "    {\"name\": \"Scott\", \"age\": 27, \"pet\": null},\n",
    "    {\"name\": \"Katie\", \"age\": 30, \"pet\": \"dog\"} ]}'''\n",
    "data_dict = json.loads(obj)\n",
    "print(data_dict['classmates'])\n",
    "print('---------')\n",
    "\n",
    "df = pd.DataFrame(data_dict['classmates'])\n",
    "print(df)\n",
    "print('---------')\n",
    "\n",
    "print(df.to_json(path_or_buf=None))  # give path_or_buf to write to a file\n",
    "print('---------')\n",
    "print(df.to_json(path_or_buf=None, orient='records'))"
   ]
  },
  {
   "cell_type": "markdown",
   "metadata": {},
   "source": [
    "# Excel Files\n",
    "Packages `xlrd`, `xlwt`, `openpyxl` must first be installed.\n",
    "\n",
    "## Reading"
   ]
  },
  {
   "cell_type": "code",
   "execution_count": null,
   "metadata": {},
   "outputs": [],
   "source": [
    "import pandas as pd\n",
    "\n",
    "# load Excel file:\n",
    "filename = 'some_file.xlsx'\n",
    "xls_file = pd.ExcelFile(filename)\n",
    "\n",
    "# print sheet names\n",
    "print(xls_file.sheet_names)\n",
    "\n",
    "# load a sheet\n",
    "xls_file.parse('sheet_name')  # specify sheet name\n",
    "xls_file.parse(0)  # specify sheet index\n",
    "xls_file.parse('sheet_name', header=1)  # give the row containing column names (default: 0)\n",
    "xls_file.parse('sheet_name', usecols=[0, 2, 3])  # specify the columns to be parsed\n",
    "xls_file.parse('sheet_name', names=['col1', 'col2'])  # rename the columns\n",
    "  # For more arguments, see:\n",
    "  # https://pandas.pydata.org/pandas-docs/stable/reference/api/pandas.read_excel.html\n"
   ]
  },
  {
   "cell_type": "markdown",
   "metadata": {},
   "source": [
    "## Writing"
   ]
  },
  {
   "cell_type": "code",
   "execution_count": 40,
   "metadata": {},
   "outputs": [],
   "source": [
    "import pandas as pd\n",
    "\n",
    "writer = pd.ExcelWriter('test.xlsx')\n",
    "df.to_excel(writer, 'Sheet1')\n",
    "writer.save()"
   ]
  },
  {
   "cell_type": "markdown",
   "metadata": {},
   "source": [
    "# SAS Files"
   ]
  },
  {
   "cell_type": "code",
   "execution_count": null,
   "metadata": {},
   "outputs": [],
   "source": [
    "from sas7bdat import SAS7BDAT\n",
    "\n",
    "# reading\n",
    "with SAS7BDAT('filename.sas7bdat') as f:\n",
    "    df = f.to_data_frame()"
   ]
  },
  {
   "cell_type": "markdown",
   "metadata": {},
   "source": [
    "# Stata Files"
   ]
  },
  {
   "cell_type": "code",
   "execution_count": null,
   "metadata": {},
   "outputs": [],
   "source": [
    "import pandas as pd\n",
    "\n",
    "# reading\n",
    "df = pd.read_stata('filename')"
   ]
  },
  {
   "cell_type": "markdown",
   "metadata": {},
   "source": [
    "# HDF5 Files"
   ]
  },
  {
   "cell_type": "code",
   "execution_count": null,
   "metadata": {},
   "outputs": [],
   "source": [
    "import h5py\n",
    "\n",
    "# reading\n",
    "data = h5py.File('filename.hdf5', 'r')"
   ]
  },
  {
   "cell_type": "markdown",
   "metadata": {},
   "source": [
    "# MATLAB Files"
   ]
  },
  {
   "cell_type": "code",
   "execution_count": null,
   "metadata": {},
   "outputs": [],
   "source": [
    "import scipy.io\n",
    "\n",
    "# reading\n",
    "data = scipy.io.loadmat('filename.mat')  # `data` will be a dictionary"
   ]
  }
 ],
 "metadata": {
  "kernelspec": {
   "display_name": "Python 3",
   "language": "python",
   "name": "python3"
  },
  "language_info": {
   "codemirror_mode": {
    "name": "ipython",
    "version": 3
   },
   "file_extension": ".py",
   "mimetype": "text/x-python",
   "name": "python",
   "nbconvert_exporter": "python",
   "pygments_lexer": "ipython3",
   "version": "3.7.1"
  },
  "toc": {
   "base_numbering": 1,
   "nav_menu": {
    "height": "118.24728393554688px",
    "width": "341.9972839355469px"
   },
   "number_sections": true,
   "sideBar": true,
   "skip_h1_title": false,
   "title_cell": "Table of Contents",
   "title_sidebar": "Contents",
   "toc_cell": true,
   "toc_position": {},
   "toc_section_display": true,
   "toc_window_display": true
  }
 },
 "nbformat": 4,
 "nbformat_minor": 2
}
