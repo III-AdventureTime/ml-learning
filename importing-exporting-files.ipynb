{
 "cells": [
  {
   "cell_type": "markdown",
   "metadata": {
    "toc": true
   },
   "source": [
    "<h1>Table of Contents<span class=\"tocSkip\"></span></h1>\n",
    "<div class=\"toc\"><ul class=\"toc-item\"><li><span><a href=\"#Excel-Files\" data-toc-modified-id=\"Excel-Files-1\"><span class=\"toc-item-num\">1&nbsp;&nbsp;</span>Excel Files</a></span><ul class=\"toc-item\"><li><span><a href=\"#Reading\" data-toc-modified-id=\"Reading-1.1\"><span class=\"toc-item-num\">1.1&nbsp;&nbsp;</span>Reading</a></span></li></ul></li><li><span><a href=\"#SAS-Files\" data-toc-modified-id=\"SAS-Files-2\"><span class=\"toc-item-num\">2&nbsp;&nbsp;</span>SAS Files</a></span></li><li><span><a href=\"#Stata-Files\" data-toc-modified-id=\"Stata-Files-3\"><span class=\"toc-item-num\">3&nbsp;&nbsp;</span>Stata Files</a></span></li><li><span><a href=\"#HDF5-Files\" data-toc-modified-id=\"HDF5-Files-4\"><span class=\"toc-item-num\">4&nbsp;&nbsp;</span>HDF5 Files</a></span></li><li><span><a href=\"#MATLAB-Files\" data-toc-modified-id=\"MATLAB-Files-5\"><span class=\"toc-item-num\">5&nbsp;&nbsp;</span>MATLAB Files</a></span></li></ul></div>"
   ]
  },
  {
   "cell_type": "markdown",
   "metadata": {},
   "source": [
    "# Excel Files\n",
    "## Reading"
   ]
  },
  {
   "cell_type": "code",
   "execution_count": null,
   "metadata": {},
   "outputs": [],
   "source": [
    "import pandas as pd\n",
    "\n",
    "# load Excel file:\n",
    "filename = 'some_file.xlsx'\n",
    "xls_file = pd.ExcelFile(filename)\n",
    "\n",
    "# print sheet names\n",
    "print(xls_file.sheet_names)\n",
    "\n",
    "# load a sheet\n",
    "xls_file.parse('sheet_name')  # specify sheet name\n",
    "xls_file.parse(0)  # specify sheet index\n",
    "xls_file.parse('sheet_name', header=1)  # give the row containing column names (default: 0)\n",
    "xls_file.parse('sheet_name', usecols=[0, 2, 3])  # specify the columns to be parsed\n",
    "xls_file.parse('sheet_name', names=['col1', 'col2'])  # rename the columns\n",
    "  # For more arguments, see:\n",
    "  # https://pandas.pydata.org/pandas-docs/stable/reference/api/pandas.read_excel.html\n",
    "\n"
   ]
  },
  {
   "cell_type": "markdown",
   "metadata": {},
   "source": [
    "# SAS Files"
   ]
  },
  {
   "cell_type": "code",
   "execution_count": null,
   "metadata": {},
   "outputs": [],
   "source": [
    "from sas7bdat import SAS7BDAT\n",
    "\n",
    "# reading\n",
    "with SAS7BDAT('filename.sas7bdat') as f:\n",
    "    df = f.to_data_frame()"
   ]
  },
  {
   "cell_type": "markdown",
   "metadata": {},
   "source": [
    "# Stata Files"
   ]
  },
  {
   "cell_type": "code",
   "execution_count": null,
   "metadata": {},
   "outputs": [],
   "source": [
    "import pandas as pd\n",
    "\n",
    "# reading\n",
    "df = pd.read_stata('filename')"
   ]
  },
  {
   "cell_type": "markdown",
   "metadata": {},
   "source": [
    "# HDF5 Files"
   ]
  },
  {
   "cell_type": "code",
   "execution_count": null,
   "metadata": {},
   "outputs": [],
   "source": [
    "import h5py\n",
    "\n",
    "# reading\n",
    "data = h5py.File('filename.hdf5', 'r')"
   ]
  },
  {
   "cell_type": "markdown",
   "metadata": {},
   "source": [
    "# MATLAB Files"
   ]
  },
  {
   "cell_type": "code",
   "execution_count": null,
   "metadata": {},
   "outputs": [],
   "source": [
    "import scipy.io\n",
    "\n",
    "# reading\n",
    "data = scipy.io.loadmat('filename.mat')  # `data` will be a dictionary"
   ]
  }
 ],
 "metadata": {
  "kernelspec": {
   "display_name": "Python 3",
   "language": "python",
   "name": "python3"
  },
  "language_info": {
   "codemirror_mode": {
    "name": "ipython",
    "version": 3
   },
   "file_extension": ".py",
   "mimetype": "text/x-python",
   "name": "python",
   "nbconvert_exporter": "python",
   "pygments_lexer": "ipython3",
   "version": "3.7.1"
  },
  "toc": {
   "base_numbering": 1,
   "nav_menu": {
    "height": "118.24728393554688px",
    "width": "341.9972839355469px"
   },
   "number_sections": true,
   "sideBar": true,
   "skip_h1_title": false,
   "title_cell": "Table of Contents",
   "title_sidebar": "Contents",
   "toc_cell": true,
   "toc_position": {},
   "toc_section_display": true,
   "toc_window_display": true
  }
 },
 "nbformat": 4,
 "nbformat_minor": 2
}
