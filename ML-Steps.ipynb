{
 "cells": [
  {
   "cell_type": "markdown",
   "metadata": {},
   "source": [
    "**References:**<br/>\n",
    "Aurélien Géron, 2017, *Hands-On Machine Learning with Scikit-Learn and TensorFlow*, O'Reilly Media, Inc.\n",
    "\n",
    "The following are our study notes."
   ]
  },
  {
   "cell_type": "markdown",
   "metadata": {},
   "source": [
    "# Business Understanding\n",
    "**Frame the problem and look at the big picture.**\n",
    "- Define the objective in business terms.\n",
    "- How will your solution be used?\n",
    "- What are the current solutions/workarounds (if any)?\n",
    "- Performance\n",
    "    - How should performance be measured?\n",
    "    - Is the performance measure aligned with the business objective?\n",
    "    - What would be the minimum performance needed to reach the business objective?\n",
    "- What are comparable problems? Can you reuse experience or tools?\n",
    "- Is human expertise available?\n",
    "- How would you solve the problem manually?\n",
    "- List the assumptions you (or others) have made so far.\n",
    "- Verify assumptions if possible.\n",
    "- How should you frame this problem (supervised/unsupervised, online/offline, etc.)?\n",
    "\n",
    "\n"
   ]
  },
  {
   "cell_type": "markdown",
   "metadata": {},
   "source": [
    "# Obtaining the data\n",
    "\n",
    "Note. Automate as much as possible so you can easily get fresh data.\n",
    "\n",
    "- before getting data\n",
    "    - List the data you need and how much you need.\n",
    "    - Find and document where you can get that data.\n",
    "    - Check how much space it will take.\n",
    "    - Check legal obligations, and get authorization if necessary.\n",
    "    - Get access authorizations.\n",
    "- getting data\n",
    "    - Create a workspace (with enough storage space).\n",
    "    - Get the data.\n",
    "- after obtaining data\n",
    "    - Convert the data to a format you can easily manipulate (without changing the data itself).\n",
    "    - Ensure sensitive information is deleted or protected (e.g., anonymized).\n",
    "    - Check the size and type of data (time series, sample, geographical, etc.).\n",
    "    - Sample a test set, put it aside, and never look at it (no data snooping)."
   ]
  },
  {
   "cell_type": "markdown",
   "metadata": {},
   "source": [
    "# Explore the data to gain insights\n",
    "\n",
    "Note: try to get insights from a field expert for these steps.\n",
    "\n",
    "- Create a copy of the data for exploration (sampling it down to a manageable size if necessary).\n",
    "- Create a Jupyter notebook to keep a record of your data exploration.\n",
    "- Study each attribute and its characteristics:\n",
    "    - Name\n",
    "    - Type (categorical, int/float, bounded/unbounded, text, structured, etc.)\n",
    "    - % of missing values\n",
    "    - Noisiness and type of noise (stochastic, outliers, rounding errors, etc.)\n",
    "    - Possibly useful for the task?\n",
    "    - Type of distribution (Gaussian, uniform, logarithmic, etc.)\n",
    "- For supervised learning tasks, identify the target attribute(s).\n",
    "- Visualize the data.\n",
    "- Study the correlations between attributes.\n",
    "\n",
    "\n",
    "- Study how you would solve the problem manually.\n",
    "- Identify the promising transformations you may want to apply.\n",
    "- Identify extra data that would be useful (go back to “Get the Data”).\n",
    "- Document what you have learned."
   ]
  },
  {
   "cell_type": "markdown",
   "metadata": {},
   "source": [
    "# Data Preparation\n",
    "**Prepare the data to better expose the underlying data patterns to Machine Learning algorithms.**\n",
    "\n",
    "**Notes:**\n",
    "- Work on copies of the data (keep the original dataset intact).\n",
    "- Write functions for all data transformations you apply, for five reasons:\n",
    "- So you can easily prepare the data the next time you get a fresh dataset\n",
    "- So you can apply these transformations in future projects\n",
    "- To clean and prepare the test set\n",
    "- To clean and prepare new data instances once your solution is live\n",
    "- To make it easy to treat your preparation choices as hyperparameters\n",
    "\n",
    "**Steps:**\n",
    "1. Data cleaning:\n",
    "    - Fix or remove outliers (optional).\n",
    "    - Fill in missing values (e.g., with zero, mean, median…) or drop their rows (or columns).\n",
    "2. Feature selection (optional):\n",
    "    - Drop the attributes that provide no useful information for the task.\n",
    "3. Feature engineering, where appropriate:\n",
    "    - Discretize continuous features.\n",
    "    - Decompose features (e.g., categorical, date/time, etc.).\n",
    "    - Add promising transformations of features (e.g., log(x), sqrt(x), x2, etc.).\n",
    "    - Aggregate features into promising new features.\n",
    "4. Feature scaling: standardize or normalize features."
   ]
  },
  {
   "cell_type": "markdown",
   "metadata": {},
   "source": [
    "# Modeling\n",
    "**Explore many different models and short-list the best ones.**\n",
    "\n",
    "**Notes:**\n",
    "- If the data is huge, you may want to sample smaller training sets so you can train many different models in a reasonable time (be aware that this penalizes complex models such as large neural nets or Random Forests).\n",
    "- Once again, try to automate these steps as much as possible.\n",
    "\n",
    "**Steps:**\n",
    "1. Train many quick and dirty models from different categories (e.g., linear, naive Bayes, SVM, Random Forests, neural net, etc.) using standard parameters.\n",
    "2. Measure and compare their performance.\n",
    "    - For each model, use N-fold cross-validation and compute the mean and standard deviation of the performance measure on the N folds.\n",
    "3. Analyze the most significant variables for each algorithm.\n",
    "4. Analyze the types of errors the models make.\n",
    "    - What data would a human have used to avoid these errors?\n",
    "5. Have a quick round of feature selection and engineering.\n",
    "6. Have one or two more quick iterations of the five previous steps.\n",
    "7. Short-list the top three to five most promising models, preferring models that make different types of errors."
   ]
  },
  {
   "cell_type": "markdown",
   "metadata": {},
   "source": [
    "# Fine-Tuning Models\n",
    "**Fine-tune your models and combine them into a great solution.**\n",
    "\n",
    "**Notes:**\n",
    "- You will want to use as much data as possible for this step, especially as you move toward the end of fine-tuning.\n",
    "- As always automate what you can.\n",
    "\n",
    "**Steps:**\n",
    "1. Fine-tune the hyperparameters using cross-validation.\n",
    "    - Treat your data transformation choices as hyperparameters, especially when you are not sure about them (e.g., should I replace missing values with zero or with the median value? Or just drop the rows?).\n",
    "    - Unless there are very few hyperparameter values to explore, prefer random search over grid search. If training is very long, you may prefer a Bayesian optimization approach (e.g., using Gaussian process priors).\n",
    "2. Try Ensemble methods. Combining your best models will often perform better than running them individually.\n",
    "3. Once you are confident about your final model, measure its performance on the test set to estimate the generalization error.\n",
    "4. Don’t tweak your model after measuring the generalization error: you would just start overfitting the test set.\n",
    "\n"
   ]
  },
  {
   "cell_type": "markdown",
   "metadata": {},
   "source": [
    "# Presentation\n",
    "**Present your solution**\n",
    "\n",
    "1. Document what you have done.\n",
    "2. Create a nice presentation.\n",
    "    - Make sure you highlight the big picture first.\n",
    "3. Explain why your solution achieves the business objective.\n",
    "4. Don’t forget to present interesting points you noticed along the way.\n",
    "    - Describe what worked and what did not.\n",
    "    - List your assumptions and your system’s limitations.\n",
    "5. Ensure your key findings are communicated through beautiful visualizations or easy-to-remember statements (e.g., “the median income is the number-one predictor of housing prices”)."
   ]
  },
  {
   "cell_type": "markdown",
   "metadata": {},
   "source": [
    "# Launch, monitor, and maintain your system\n",
    "\n",
    "1. Get your solution ready for production (plug into production data inputs, write unit tests, etc.).\n",
    "2. Write monitoring code to check your system’s live performance at regular intervals and trigger alerts when it drops.\n",
    "    - Beware of slow degradation too: models tend to “rot” as data evolves.\n",
    "    - Measuring performance may require a human pipeline (e.g., via a crowdsourcing service).\n",
    "    - Also monitor your inputs’ quality (e.g., a malfunctioning sensor sending random values, or another team’s output becoming stale). This is particularly important for online learning systems.\n",
    "3. Retrain your models on a regular basis on fresh data (automate as much as possible).    "
   ]
  }
 ],
 "metadata": {
  "kernelspec": {
   "display_name": "Python 3",
   "language": "python",
   "name": "python3"
  },
  "language_info": {
   "codemirror_mode": {
    "name": "ipython",
    "version": 3
   },
   "file_extension": ".py",
   "mimetype": "text/x-python",
   "name": "python",
   "nbconvert_exporter": "python",
   "pygments_lexer": "ipython3",
   "version": "3.6.4"
  },
  "toc": {
   "base_numbering": 1,
   "nav_menu": {},
   "number_sections": true,
   "sideBar": true,
   "skip_h1_title": false,
   "title_cell": "Table of Contents",
   "title_sidebar": "Contents",
   "toc_cell": false,
   "toc_position": {},
   "toc_section_display": true,
   "toc_window_display": true
  }
 },
 "nbformat": 4,
 "nbformat_minor": 2
}
